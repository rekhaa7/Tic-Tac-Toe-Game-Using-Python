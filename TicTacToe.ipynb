{
 "cells": [
  {
   "cell_type": "markdown",
   "id": "d5d8ce7d",
   "metadata": {},
   "source": [
    "# TicTacToe Game\n"
   ]
  },
  {
   "cell_type": "code",
   "execution_count": 1,
   "id": "a39ef6ee",
   "metadata": {},
   "outputs": [],
   "source": [
    "import random\n",
    "\n",
    "class TicTacToe:\n",
    "    def __init__(self, player1, player2):\n",
    "        self.player_1 = player1\n",
    "        self.player_2 = player2\n",
    "        self.reset()\n",
    "        \n",
    "    def reset(self, ):\n",
    "        self.board = [\" \"] * 9\n",
    "        self.player_1_turn = random.choice([True, False])      \n",
    "        \n",
    "    def check_full(self, ):\n",
    "        emptys = [x for x in self.board if x == ' ']                # list\n",
    "        if len(emptys) == 0:\n",
    "            return True\n",
    "        return False\n",
    "    \n",
    "    def print_board(self):\n",
    "        b =self.board\n",
    "        board = f'''\n",
    "        {b[0]} | {b[1]} | {b[2]}\n",
    "        -----------\n",
    "        {b[3]} | {b[4]} | {b[5]}\n",
    "        -----------\n",
    "        {b[6]} | {b[7]} | {b[8]}\n",
    "        '''\n",
    "        print(board)\n",
    "        \n",
    "    def check_winner(self, char):\n",
    "        b = self.board\n",
    "        winner = False\n",
    "        conditions = [\n",
    "            (0, 1, 2),\n",
    "            (3, 4, 5),\n",
    "            (6, 7, 8),\n",
    "            (0, 3, 6),\n",
    "            (1, 4, 7),\n",
    "            (2, 5, 8),\n",
    "            (0, 4, 8),\n",
    "            (2, 4, 6)\n",
    "        ]\n",
    "        \n",
    "        for each_condition in conditions:\n",
    "            i1, i2, i3 = each_condition\n",
    "            if char == b[i1] == b[i2] == b[i3]:\n",
    "                winner = True\n",
    "                break\n",
    "        return winner\n",
    "        \n",
    "    def play(self, ):\n",
    "        self.player_1.new_game()\n",
    "        self.player_2.new_game()\n",
    "        self.reset()\n",
    "\n",
    "        while True:\n",
    "            if self.player_1_turn:\n",
    "                player = self.player_1\n",
    "            else:\n",
    "                player = self.player_2\n",
    "\n",
    "            # Ask for move\n",
    "            if player.type =='human':\n",
    "                print(f\"{player.name}'s Turn\")\n",
    "                self.print_board()\n",
    "            move = player.make_move()\n",
    "\n",
    "            # check validity\n",
    "            if move < 0 or move > 8:           # index\n",
    "                print('Invalid move')\n",
    "                continue\n",
    "\n",
    "            if self.board[move] != ' ':\n",
    "                print('Invalid Move')\n",
    "                continue\n",
    "\n",
    "            # put character \n",
    "            self.board[move] = player.char\n",
    "\n",
    "            # check winner\n",
    "            win = self.check_winner(player.char)\n",
    "            print(f'Checking Winner...')\n",
    "            if win:\n",
    "                player.winner()\n",
    "                player.reward('Lollipop')\n",
    "                self.print_board()\n",
    "                break\n",
    "\n",
    "            # check full(draw)\n",
    "            full = self.check_full()\n",
    "            if full:\n",
    "                print('Game Ended as Draw')\n",
    "                player.reward('Orange Balls')\n",
    "                break\n",
    "\n",
    "            # Swapping the turn of player\n",
    "\n",
    "            self.player_1_turn = not self.player_1_turn     # not True \n",
    "                "
   ]
  },
  {
   "cell_type": "code",
   "execution_count": 2,
   "id": "c36b0379",
   "metadata": {},
   "outputs": [],
   "source": [
    "class Player:\n",
    "    def __init__(self, name, char, type = 'human'):\n",
    "        self.name = name\n",
    "        self.char = char\n",
    "        self.type = type\n",
    "        \n",
    "    def make_move(self):\n",
    "        ans =  input('Enter your move: ')\n",
    "        return int(ans)\n",
    "    \n",
    "    def new_game(self):\n",
    "        print(f'{self.name} in {self.char}')\n",
    "        \n",
    "    def winner(self):\n",
    "        print(f'{self.name} is winner.')\n",
    "        \n",
    "    def reward(self, reward_value):\n",
    "        print(f'{self.name} gets reward of {reward_value}')\n",
    "\n",
    "    "
   ]
  },
  {
   "cell_type": "code",
   "execution_count": 3,
   "id": "0bfffe4e",
   "metadata": {},
   "outputs": [],
   "source": [
    "p1 = Player('Hari Bahadur', 'X')\n",
    "p2 = Player('Ram Bahadur', 'O')"
   ]
  },
  {
   "cell_type": "code",
   "execution_count": 4,
   "id": "4a2a569d",
   "metadata": {},
   "outputs": [
    {
     "name": "stdout",
     "output_type": "stream",
     "text": [
      "Ram Bahadur gets reward of 10\n"
     ]
    }
   ],
   "source": [
    "p2.reward(10)"
   ]
  },
  {
   "cell_type": "code",
   "execution_count": 5,
   "id": "870e493a",
   "metadata": {},
   "outputs": [],
   "source": [
    "game = TicTacToe(p1, p2)"
   ]
  },
  {
   "cell_type": "code",
   "execution_count": 6,
   "id": "b21ebd17",
   "metadata": {},
   "outputs": [
    {
     "name": "stdout",
     "output_type": "stream",
     "text": [
      "\n",
      "          |   |  \n",
      "        -----------\n",
      "          |   |  \n",
      "        -----------\n",
      "          |   |  \n",
      "        \n"
     ]
    }
   ],
   "source": [
    "game.print_board()"
   ]
  },
  {
   "cell_type": "code",
   "execution_count": 7,
   "id": "a0167056",
   "metadata": {},
   "outputs": [
    {
     "data": {
      "text/plain": [
       "False"
      ]
     },
     "execution_count": 7,
     "metadata": {},
     "output_type": "execute_result"
    }
   ],
   "source": [
    "game.check_full()"
   ]
  },
  {
   "cell_type": "code",
   "execution_count": 8,
   "id": "9e0a149d",
   "metadata": {},
   "outputs": [
    {
     "name": "stdout",
     "output_type": "stream",
     "text": [
      "Hari Bahadur in X\n",
      "Ram Bahadur in O\n",
      "Ram Bahadur's Turn\n",
      "\n",
      "          |   |  \n",
      "        -----------\n",
      "          |   |  \n",
      "        -----------\n",
      "          |   |  \n",
      "        \n",
      "Enter your move: 0\n",
      "Checking Winner...\n",
      "Hari Bahadur's Turn\n",
      "\n",
      "        O |   |  \n",
      "        -----------\n",
      "          |   |  \n",
      "        -----------\n",
      "          |   |  \n",
      "        \n",
      "Enter your move: 1\n",
      "Checking Winner...\n",
      "Ram Bahadur's Turn\n",
      "\n",
      "        O | X |  \n",
      "        -----------\n",
      "          |   |  \n",
      "        -----------\n",
      "          |   |  \n",
      "        \n",
      "Enter your move: 3\n",
      "Checking Winner...\n",
      "Hari Bahadur's Turn\n",
      "\n",
      "        O | X |  \n",
      "        -----------\n",
      "        O |   |  \n",
      "        -----------\n",
      "          |   |  \n",
      "        \n",
      "Enter your move: 5\n",
      "Checking Winner...\n",
      "Ram Bahadur's Turn\n",
      "\n",
      "        O | X |  \n",
      "        -----------\n",
      "        O |   | X\n",
      "        -----------\n",
      "          |   |  \n",
      "        \n",
      "Enter your move: 6\n",
      "Checking Winner...\n",
      "Ram Bahadur is winner.\n",
      "Ram Bahadur gets reward of Lollipop\n",
      "\n",
      "        O | X |  \n",
      "        -----------\n",
      "        O |   | X\n",
      "        -----------\n",
      "        O |   |  \n",
      "        \n"
     ]
    }
   ],
   "source": [
    "game.play()"
   ]
  }
 ],
 "metadata": {
  "kernelspec": {
   "display_name": "Python 3 (ipykernel)",
   "language": "python",
   "name": "python3"
  },
  "language_info": {
   "codemirror_mode": {
    "name": "ipython",
    "version": 3
   },
   "file_extension": ".py",
   "mimetype": "text/x-python",
   "name": "python",
   "nbconvert_exporter": "python",
   "pygments_lexer": "ipython3",
   "version": "3.9.13"
  }
 },
 "nbformat": 4,
 "nbformat_minor": 5
}
